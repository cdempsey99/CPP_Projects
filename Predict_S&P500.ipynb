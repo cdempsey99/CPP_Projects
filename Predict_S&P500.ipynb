{
 "cells": [
  {
   "cell_type": "markdown",
   "id": "7451f29b-882b-466c-b70b-10ea86b1b7ff",
   "metadata": {
    "tags": []
   },
   "source": [
    "# Predicting the Price of the S&P500 using Machine Learning "
   ]
  },
  {
   "cell_type": "code",
   "execution_count": 18,
   "id": "1f4a5987-42b0-419a-8ba8-fec9269a7dab",
   "metadata": {
    "tags": []
   },
   "outputs": [],
   "source": [
    "# We will use Yahoo Finance to get our SP500 data\n",
    "\n",
    "import yfinance as yf"
   ]
  },
  {
   "cell_type": "code",
   "execution_count": 27,
   "id": "b5f6b76c-82d3-4933-9cac-7a5b85c6f2fb",
   "metadata": {
    "tags": []
   },
   "outputs": [
    {
     "data": {
      "text/html": [
       "<div>\n",
       "<style scoped>\n",
       "    .dataframe tbody tr th:only-of-type {\n",
       "        vertical-align: middle;\n",
       "    }\n",
       "\n",
       "    .dataframe tbody tr th {\n",
       "        vertical-align: top;\n",
       "    }\n",
       "\n",
       "    .dataframe thead th {\n",
       "        text-align: right;\n",
       "    }\n",
       "</style>\n",
       "<table border=\"1\" class=\"dataframe\">\n",
       "  <thead>\n",
       "    <tr style=\"text-align: right;\">\n",
       "      <th></th>\n",
       "      <th>Open</th>\n",
       "      <th>High</th>\n",
       "      <th>Low</th>\n",
       "      <th>Close</th>\n",
       "      <th>Volume</th>\n",
       "      <th>Dividends</th>\n",
       "      <th>Stock Splits</th>\n",
       "    </tr>\n",
       "    <tr>\n",
       "      <th>Date</th>\n",
       "      <th></th>\n",
       "      <th></th>\n",
       "      <th></th>\n",
       "      <th></th>\n",
       "      <th></th>\n",
       "      <th></th>\n",
       "      <th></th>\n",
       "    </tr>\n",
       "  </thead>\n",
       "  <tbody>\n",
       "    <tr>\n",
       "      <th>1927-12-30 00:00:00-05:00</th>\n",
       "      <td>17.660000</td>\n",
       "      <td>17.660000</td>\n",
       "      <td>17.660000</td>\n",
       "      <td>17.660000</td>\n",
       "      <td>0</td>\n",
       "      <td>0.0</td>\n",
       "      <td>0.0</td>\n",
       "    </tr>\n",
       "    <tr>\n",
       "      <th>1928-01-03 00:00:00-05:00</th>\n",
       "      <td>17.760000</td>\n",
       "      <td>17.760000</td>\n",
       "      <td>17.760000</td>\n",
       "      <td>17.760000</td>\n",
       "      <td>0</td>\n",
       "      <td>0.0</td>\n",
       "      <td>0.0</td>\n",
       "    </tr>\n",
       "    <tr>\n",
       "      <th>1928-01-04 00:00:00-05:00</th>\n",
       "      <td>17.719999</td>\n",
       "      <td>17.719999</td>\n",
       "      <td>17.719999</td>\n",
       "      <td>17.719999</td>\n",
       "      <td>0</td>\n",
       "      <td>0.0</td>\n",
       "      <td>0.0</td>\n",
       "    </tr>\n",
       "    <tr>\n",
       "      <th>1928-01-05 00:00:00-05:00</th>\n",
       "      <td>17.549999</td>\n",
       "      <td>17.549999</td>\n",
       "      <td>17.549999</td>\n",
       "      <td>17.549999</td>\n",
       "      <td>0</td>\n",
       "      <td>0.0</td>\n",
       "      <td>0.0</td>\n",
       "    </tr>\n",
       "    <tr>\n",
       "      <th>1928-01-06 00:00:00-05:00</th>\n",
       "      <td>17.660000</td>\n",
       "      <td>17.660000</td>\n",
       "      <td>17.660000</td>\n",
       "      <td>17.660000</td>\n",
       "      <td>0</td>\n",
       "      <td>0.0</td>\n",
       "      <td>0.0</td>\n",
       "    </tr>\n",
       "    <tr>\n",
       "      <th>...</th>\n",
       "      <td>...</td>\n",
       "      <td>...</td>\n",
       "      <td>...</td>\n",
       "      <td>...</td>\n",
       "      <td>...</td>\n",
       "      <td>...</td>\n",
       "      <td>...</td>\n",
       "    </tr>\n",
       "    <tr>\n",
       "      <th>2024-04-18 00:00:00-04:00</th>\n",
       "      <td>5031.520020</td>\n",
       "      <td>5056.660156</td>\n",
       "      <td>5001.890137</td>\n",
       "      <td>5011.120117</td>\n",
       "      <td>3619760000</td>\n",
       "      <td>0.0</td>\n",
       "      <td>0.0</td>\n",
       "    </tr>\n",
       "    <tr>\n",
       "      <th>2024-04-19 00:00:00-04:00</th>\n",
       "      <td>5005.439941</td>\n",
       "      <td>5019.020020</td>\n",
       "      <td>4953.560059</td>\n",
       "      <td>4967.229980</td>\n",
       "      <td>3878750000</td>\n",
       "      <td>0.0</td>\n",
       "      <td>0.0</td>\n",
       "    </tr>\n",
       "    <tr>\n",
       "      <th>2024-04-22 00:00:00-04:00</th>\n",
       "      <td>4987.330078</td>\n",
       "      <td>5038.839844</td>\n",
       "      <td>4969.399902</td>\n",
       "      <td>5010.600098</td>\n",
       "      <td>3820250000</td>\n",
       "      <td>0.0</td>\n",
       "      <td>0.0</td>\n",
       "    </tr>\n",
       "    <tr>\n",
       "      <th>2024-04-23 00:00:00-04:00</th>\n",
       "      <td>5028.850098</td>\n",
       "      <td>5076.120117</td>\n",
       "      <td>5027.959961</td>\n",
       "      <td>5070.549805</td>\n",
       "      <td>3751400000</td>\n",
       "      <td>0.0</td>\n",
       "      <td>0.0</td>\n",
       "    </tr>\n",
       "    <tr>\n",
       "      <th>2024-04-24 00:00:00-04:00</th>\n",
       "      <td>5084.859863</td>\n",
       "      <td>5089.479980</td>\n",
       "      <td>5051.930176</td>\n",
       "      <td>5054.160156</td>\n",
       "      <td>939487260</td>\n",
       "      <td>0.0</td>\n",
       "      <td>0.0</td>\n",
       "    </tr>\n",
       "  </tbody>\n",
       "</table>\n",
       "<p>24194 rows × 7 columns</p>\n",
       "</div>"
      ],
      "text/plain": [
       "                                  Open         High          Low        Close  \\\n",
       "Date                                                                            \n",
       "1927-12-30 00:00:00-05:00    17.660000    17.660000    17.660000    17.660000   \n",
       "1928-01-03 00:00:00-05:00    17.760000    17.760000    17.760000    17.760000   \n",
       "1928-01-04 00:00:00-05:00    17.719999    17.719999    17.719999    17.719999   \n",
       "1928-01-05 00:00:00-05:00    17.549999    17.549999    17.549999    17.549999   \n",
       "1928-01-06 00:00:00-05:00    17.660000    17.660000    17.660000    17.660000   \n",
       "...                                ...          ...          ...          ...   \n",
       "2024-04-18 00:00:00-04:00  5031.520020  5056.660156  5001.890137  5011.120117   \n",
       "2024-04-19 00:00:00-04:00  5005.439941  5019.020020  4953.560059  4967.229980   \n",
       "2024-04-22 00:00:00-04:00  4987.330078  5038.839844  4969.399902  5010.600098   \n",
       "2024-04-23 00:00:00-04:00  5028.850098  5076.120117  5027.959961  5070.549805   \n",
       "2024-04-24 00:00:00-04:00  5084.859863  5089.479980  5051.930176  5054.160156   \n",
       "\n",
       "                               Volume  Dividends  Stock Splits  \n",
       "Date                                                            \n",
       "1927-12-30 00:00:00-05:00           0        0.0           0.0  \n",
       "1928-01-03 00:00:00-05:00           0        0.0           0.0  \n",
       "1928-01-04 00:00:00-05:00           0        0.0           0.0  \n",
       "1928-01-05 00:00:00-05:00           0        0.0           0.0  \n",
       "1928-01-06 00:00:00-05:00           0        0.0           0.0  \n",
       "...                               ...        ...           ...  \n",
       "2024-04-18 00:00:00-04:00  3619760000        0.0           0.0  \n",
       "2024-04-19 00:00:00-04:00  3878750000        0.0           0.0  \n",
       "2024-04-22 00:00:00-04:00  3820250000        0.0           0.0  \n",
       "2024-04-23 00:00:00-04:00  3751400000        0.0           0.0  \n",
       "2024-04-24 00:00:00-04:00   939487260        0.0           0.0  \n",
       "\n",
       "[24194 rows x 7 columns]"
      ]
     },
     "execution_count": 27,
     "metadata": {},
     "output_type": "execute_result"
    }
   ],
   "source": [
    "# This is the ticker/sym for the S&P500\n",
    "\n",
    "sp500 = yf.Ticker(\"^GSPC\")\n",
    "\n",
    "sp500 = sp500.history(period=\"max\")\n",
    "\n",
    "sp500"
   ]
  },
  {
   "cell_type": "code",
   "execution_count": 28,
   "id": "2e646b63-c4f0-4c4d-8f46-3d5a322534fa",
   "metadata": {
    "tags": []
   },
   "outputs": [
    {
     "data": {
      "text/plain": [
       "<Axes: xlabel='Date'>"
      ]
     },
     "execution_count": 28,
     "metadata": {},
     "output_type": "execute_result"
    },
    {
     "data": {
      "image/png": "[encoded data removed]",
      "text/plain": [
       "<Figure size 640x480 with 1 Axes>"
      ]
     },
     "metadata": {},
     "output_type": "display_data"
    }
   ],
   "source": [
    "# Plot the (closing) price of SP500 for all the dates we have for visualisation\n",
    "\n",
    "sp500.plot.line(y=\"Close\", use_index=True)"
   ]
  },
  {
   "cell_type": "code",
   "execution_count": 29,
   "id": "7da817f1-04aa-4f6f-b535-43b8a5636d1d",
   "metadata": {
    "tags": []
   },
   "outputs": [],
   "source": [
    "# Clean up the data - Remove unnecesary columns \n",
    "\n",
    "del sp500[\"Dividends\"]\n",
    "del sp500[\"Stock Splits\"]"
   ]
  },
  {
   "cell_type": "markdown",
   "id": "382ebe8e-9440-4368-af84-8baf81b6ad7a",
   "metadata": {
    "tags": []
   },
   "source": [
    "## What to Predict?\n",
    "\n",
    "We need to be carfeul when chossing what exactly our ML model is actually going to be attempting to predict. \n",
    "\n",
    "It would seem to make sense for it be trying to predict the exact price of the S&P500 on a given day. But actually if we try this, even with quite an accurate model we would be often wrong on the direction of movement day to day. This means for the hypothetical purpose of actually buying S&P500 stock on a given day, this is not the best thing to predict. \n",
    "\n",
    "We want to simply predict if the price will go up or down the next day, not the actual exact price value."
   ]
  },
  {
   "cell_type": "code",
   "execution_count": 30,
   "id": "010c203f-2d75-4632-8bcc-70c2ddbfb29e",
   "metadata": {
    "tags": []
   },
   "outputs": [
    {
     "data": {
      "text/html": [
       "<div>\n",
       "<style scoped>\n",
       "    .dataframe tbody tr th:only-of-type {\n",
       "        vertical-align: middle;\n",
       "    }\n",
       "\n",
       "    .dataframe tbody tr th {\n",
       "        vertical-align: top;\n",
       "    }\n",
       "\n",
       "    .dataframe thead th {\n",
       "        text-align: right;\n",
       "    }\n",
       "</style>\n",
       "<table border=\"1\" class=\"dataframe\">\n",
       "  <thead>\n",
       "    <tr style=\"text-align: right;\">\n",
       "      <th></th>\n",
       "      <th>Open</th>\n",
       "      <th>High</th>\n",
       "      <th>Low</th>\n",
       "      <th>Close</th>\n",
       "      <th>Volume</th>\n",
       "      <th>Tomorrow</th>\n",
       "      <th>Target</th>\n",
       "    </tr>\n",
       "    <tr>\n",
       "      <th>Date</th>\n",
       "      <th></th>\n",
       "      <th></th>\n",
       "      <th></th>\n",
       "      <th></th>\n",
       "      <th></th>\n",
       "      <th></th>\n",
       "      <th></th>\n",
       "    </tr>\n",
       "  </thead>\n",
       "  <tbody>\n",
       "    <tr>\n",
       "      <th>1927-12-30 00:00:00-05:00</th>\n",
       "      <td>17.660000</td>\n",
       "      <td>17.660000</td>\n",
       "      <td>17.660000</td>\n",
       "      <td>17.660000</td>\n",
       "      <td>0</td>\n",
       "      <td>17.760000</td>\n",
       "      <td>1</td>\n",
       "    </tr>\n",
       "    <tr>\n",
       "      <th>1928-01-03 00:00:00-05:00</th>\n",
       "      <td>17.760000</td>\n",
       "      <td>17.760000</td>\n",
       "      <td>17.760000</td>\n",
       "      <td>17.760000</td>\n",
       "      <td>0</td>\n",
       "      <td>17.719999</td>\n",
       "      <td>0</td>\n",
       "    </tr>\n",
       "    <tr>\n",
       "      <th>1928-01-04 00:00:00-05:00</th>\n",
       "      <td>17.719999</td>\n",
       "      <td>17.719999</td>\n",
       "      <td>17.719999</td>\n",
       "      <td>17.719999</td>\n",
       "      <td>0</td>\n",
       "      <td>17.549999</td>\n",
       "      <td>0</td>\n",
       "    </tr>\n",
       "    <tr>\n",
       "      <th>1928-01-05 00:00:00-05:00</th>\n",
       "      <td>17.549999</td>\n",
       "      <td>17.549999</td>\n",
       "      <td>17.549999</td>\n",
       "      <td>17.549999</td>\n",
       "      <td>0</td>\n",
       "      <td>17.660000</td>\n",
       "      <td>1</td>\n",
       "    </tr>\n",
       "    <tr>\n",
       "      <th>1928-01-06 00:00:00-05:00</th>\n",
       "      <td>17.660000</td>\n",
       "      <td>17.660000</td>\n",
       "      <td>17.660000</td>\n",
       "      <td>17.660000</td>\n",
       "      <td>0</td>\n",
       "      <td>17.500000</td>\n",
       "      <td>0</td>\n",
       "    </tr>\n",
       "    <tr>\n",
       "      <th>...</th>\n",
       "      <td>...</td>\n",
       "      <td>...</td>\n",
       "      <td>...</td>\n",
       "      <td>...</td>\n",
       "      <td>...</td>\n",
       "      <td>...</td>\n",
       "      <td>...</td>\n",
       "    </tr>\n",
       "    <tr>\n",
       "      <th>2024-04-18 00:00:00-04:00</th>\n",
       "      <td>5031.520020</td>\n",
       "      <td>5056.660156</td>\n",
       "      <td>5001.890137</td>\n",
       "      <td>5011.120117</td>\n",
       "      <td>3619760000</td>\n",
       "      <td>4967.229980</td>\n",
       "      <td>0</td>\n",
       "    </tr>\n",
       "    <tr>\n",
       "      <th>2024-04-19 00:00:00-04:00</th>\n",
       "      <td>5005.439941</td>\n",
       "      <td>5019.020020</td>\n",
       "      <td>4953.560059</td>\n",
       "      <td>4967.229980</td>\n",
       "      <td>3878750000</td>\n",
       "      <td>5010.600098</td>\n",
       "      <td>1</td>\n",
       "    </tr>\n",
       "    <tr>\n",
       "      <th>2024-04-22 00:00:00-04:00</th>\n",
       "      <td>4987.330078</td>\n",
       "      <td>5038.839844</td>\n",
       "      <td>4969.399902</td>\n",
       "      <td>5010.600098</td>\n",
       "      <td>3820250000</td>\n",
       "      <td>5070.549805</td>\n",
       "      <td>1</td>\n",
       "    </tr>\n",
       "    <tr>\n",
       "      <th>2024-04-23 00:00:00-04:00</th>\n",
       "      <td>5028.850098</td>\n",
       "      <td>5076.120117</td>\n",
       "      <td>5027.959961</td>\n",
       "      <td>5070.549805</td>\n",
       "      <td>3751400000</td>\n",
       "      <td>5054.160156</td>\n",
       "      <td>0</td>\n",
       "    </tr>\n",
       "    <tr>\n",
       "      <th>2024-04-24 00:00:00-04:00</th>\n",
       "      <td>5084.859863</td>\n",
       "      <td>5089.479980</td>\n",
       "      <td>5051.930176</td>\n",
       "      <td>5054.160156</td>\n",
       "      <td>939487260</td>\n",
       "      <td>NaN</td>\n",
       "      <td>0</td>\n",
       "    </tr>\n",
       "  </tbody>\n",
       "</table>\n",
       "<p>24194 rows × 7 columns</p>\n",
       "</div>"
      ],
      "text/plain": [
       "                                  Open         High          Low        Close  \\\n",
       "Date                                                                            \n",
       "1927-12-30 00:00:00-05:00    17.660000    17.660000    17.660000    17.660000   \n",
       "1928-01-03 00:00:00-05:00    17.760000    17.760000    17.760000    17.760000   \n",
       "1928-01-04 00:00:00-05:00    17.719999    17.719999    17.719999    17.719999   \n",
       "1928-01-05 00:00:00-05:00    17.549999    17.549999    17.549999    17.549999   \n",
       "1928-01-06 00:00:00-05:00    17.660000    17.660000    17.660000    17.660000   \n",
       "...                                ...          ...          ...          ...   \n",
       "2024-04-18 00:00:00-04:00  5031.520020  5056.660156  5001.890137  5011.120117   \n",
       "2024-04-19 00:00:00-04:00  5005.439941  5019.020020  4953.560059  4967.229980   \n",
       "2024-04-22 00:00:00-04:00  4987.330078  5038.839844  4969.399902  5010.600098   \n",
       "2024-04-23 00:00:00-04:00  5028.850098  5076.120117  5027.959961  5070.549805   \n",
       "2024-04-24 00:00:00-04:00  5084.859863  5089.479980  5051.930176  5054.160156   \n",
       "\n",
       "                               Volume     Tomorrow  Target  \n",
       "Date                                                        \n",
       "1927-12-30 00:00:00-05:00           0    17.760000       1  \n",
       "1928-01-03 00:00:00-05:00           0    17.719999       0  \n",
       "1928-01-04 00:00:00-05:00           0    17.549999       0  \n",
       "1928-01-05 00:00:00-05:00           0    17.660000       1  \n",
       "1928-01-06 00:00:00-05:00           0    17.500000       0  \n",
       "...                               ...          ...     ...  \n",
       "2024-04-18 00:00:00-04:00  3619760000  4967.229980       0  \n",
       "2024-04-19 00:00:00-04:00  3878750000  5010.600098       1  \n",
       "2024-04-22 00:00:00-04:00  3820250000  5070.549805       1  \n",
       "2024-04-23 00:00:00-04:00  3751400000  5054.160156       0  \n",
       "2024-04-24 00:00:00-04:00   939487260          NaN       0  \n",
       "\n",
       "[24194 rows x 7 columns]"
      ]
     },
     "execution_count": 30,
     "metadata": {},
     "output_type": "execute_result"
    }
   ],
   "source": [
    "# Create a new boolean 'target' column which tells us if the price will go up for a given day\n",
    "\n",
    "sp500[\"Tomorrow\"] = sp500[\"Close\"].shift(-1)\n",
    "\n",
    "sp500[\"Target\"] = (sp500[\"Tomorrow\"] > sp500[\"Close\"]).astype(int)\n",
    "\n",
    "sp500"
   ]
  },
  {
   "cell_type": "code",
   "execution_count": 31,
   "id": "8450dc47-4f66-4c88-9a9b-5d434f340ae7",
   "metadata": {
    "tags": []
   },
   "outputs": [],
   "source": [
    "# Normally the more data the better but if we go too far back in time we may be dealing with a stock market under very different conditions to the modern day, \n",
    "# making that data less useful for our predictions. So exclude data before 1990\n",
    "\n",
    "sp500 = sp500.loc[\"1990-01-01\":].copy()"
   ]
  },
  {
   "cell_type": "markdown",
   "id": "6628d204-3d72-4b9e-9053-2b4476ed2001",
   "metadata": {
    "tags": []
   },
   "source": [
    "## Which type of ML model to use?\n",
    "We will choose a Random Forest Model for our purposes here. This model is relatively popular choice for classification problems as it is not too computationally intensive and it also is less likely than some other models to overfit to the training data set. This is because it uses many different decision trees, each with different splitting criteria.\n",
    "\n",
    "n_estimators is the number of decision trees in the random forest.\n",
    "\n",
    "min_smaple_split is the minimum amount of rows required for the decision tree to split the data by some criteria.\n",
    "\n",
    "We will then split our data into a training set and a testing set. As this is time series data, we must be careful to respect the time order when it comes to this splitting. Otherwise we will affectively be allowing the model to make predictions using some data from the future, which is obviousy not going to be possible in the resal world.\n",
    "\n"
   ]
  },
  {
   "cell_type": "code",
   "execution_count": 32,
   "id": "7b97533c-8282-46b3-aebf-69dbf17e8689",
   "metadata": {
    "tags": []
   },
   "outputs": [
    {
     "data": {
      "text/html": [
       "<style>#sk-container-id-2 {color: black;}#sk-container-id-2 pre{padding: 0;}#sk-container-id-2 div.sk-toggleable {background-color: white;}#sk-container-id-2 label.sk-toggleable__label {cursor: pointer;display: block;width: 100%;margin-bottom: 0;padding: 0.3em;box-sizing: border-box;text-align: center;}#sk-container-id-2 label.sk-toggleable__label-arrow:before {content: \"▸\";float: left;margin-right: 0.25em;color: #696969;}#sk-container-id-2 label.sk-toggleable__label-arrow:hover:before {color: black;}#sk-container-id-2 div.sk-estimator:hover label.sk-toggleable__label-arrow:before {color: black;}#sk-container-id-2 div.sk-toggleable__content {max-height: 0;max-width: 0;overflow: hidden;text-align: left;background-color: #f0f8ff;}#sk-container-id-2 div.sk-toggleable__content pre {margin: 0.2em;color: black;border-radius: 0.25em;background-color: #f0f8ff;}#sk-container-id-2 input.sk-toggleable__control:checked~div.sk-toggleable__content {max-height: 200px;max-width: 100%;overflow: auto;}#sk-container-id-2 input.sk-toggleable__control:checked~label.sk-toggleable__label-arrow:before {content: \"▾\";}#sk-container-id-2 div.sk-estimator input.sk-toggleable__control:checked~label.sk-toggleable__label {background-color: #d4ebff;}#sk-container-id-2 div.sk-label input.sk-toggleable__control:checked~label.sk-toggleable__label {background-color: #d4ebff;}#sk-container-id-2 input.sk-hidden--visually {border: 0;clip: rect(1px 1px 1px 1px);clip: rect(1px, 1px, 1px, 1px);height: 1px;margin: -1px;overflow: hidden;padding: 0;position: absolute;width: 1px;}#sk-container-id-2 div.sk-estimator {font-family: monospace;background-color: #f0f8ff;border: 1px dotted black;border-radius: 0.25em;box-sizing: border-box;margin-bottom: 0.5em;}#sk-container-id-2 div.sk-estimator:hover {background-color: #d4ebff;}#sk-container-id-2 div.sk-parallel-item::after {content: \"\";width: 100%;border-bottom: 1px solid gray;flex-grow: 1;}#sk-container-id-2 div.sk-label:hover label.sk-toggleable__label {background-color: #d4ebff;}#sk-container-id-2 div.sk-serial::before {content: \"\";position: absolute;border-left: 1px solid gray;box-sizing: border-box;top: 0;bottom: 0;left: 50%;z-index: 0;}#sk-container-id-2 div.sk-serial {display: flex;flex-direction: column;align-items: center;background-color: white;padding-right: 0.2em;padding-left: 0.2em;position: relative;}#sk-container-id-2 div.sk-item {position: relative;z-index: 1;}#sk-container-id-2 div.sk-parallel {display: flex;align-items: stretch;justify-content: center;background-color: white;position: relative;}#sk-container-id-2 div.sk-item::before, #sk-container-id-2 div.sk-parallel-item::before {content: \"\";position: absolute;border-left: 1px solid gray;box-sizing: border-box;top: 0;bottom: 0;left: 50%;z-index: -1;}#sk-container-id-2 div.sk-parallel-item {display: flex;flex-direction: column;z-index: 1;position: relative;background-color: white;}#sk-container-id-2 div.sk-parallel-item:first-child::after {align-self: flex-end;width: 50%;}#sk-container-id-2 div.sk-parallel-item:last-child::after {align-self: flex-start;width: 50%;}#sk-container-id-2 div.sk-parallel-item:only-child::after {width: 0;}#sk-container-id-2 div.sk-dashed-wrapped {border: 1px dashed gray;margin: 0 0.4em 0.5em 0.4em;box-sizing: border-box;padding-bottom: 0.4em;background-color: white;}#sk-container-id-2 div.sk-label label {font-family: monospace;font-weight: bold;display: inline-block;line-height: 1.2em;}#sk-container-id-2 div.sk-label-container {text-align: center;}#sk-container-id-2 div.sk-container {/* jupyter's `normalize.less` sets `[hidden] { display: none; }` but bootstrap.min.css set `[hidden] { display: none !important; }` so we also need the `!important` here to be able to override the default hidden behavior on the sphinx rendered scikit-learn.org. See: https://github.com/scikit-learn/scikit-learn/issues/21755 */display: inline-block !important;position: relative;}#sk-container-id-2 div.sk-text-repr-fallback {display: none;}</style><div id=\"sk-container-id-2\" class=\"sk-top-container\"><div class=\"sk-text-repr-fallback\"><pre>RandomForestClassifier(min_samples_split=100, random_state=1)</pre><b>In a Jupyter environment, please rerun this cell to show the HTML representation or trust the notebook. <br />On GitHub, the HTML representation is unable to render, please try loading this page with nbviewer.org.</b></div><div class=\"sk-container\" hidden><div class=\"sk-item\"><div class=\"sk-estimator sk-toggleable\"><input class=\"sk-toggleable__control sk-hidden--visually\" id=\"sk-estimator-id-2\" type=\"checkbox\" checked><label for=\"sk-estimator-id-2\" class=\"sk-toggleable__label sk-toggleable__label-arrow\">RandomForestClassifier</label><div class=\"sk-toggleable__content\"><pre>RandomForestClassifier(min_samples_split=100, random_state=1)</pre></div></div></div></div></div>"
      ],
      "text/plain": [
       "RandomForestClassifier(min_samples_split=100, random_state=1)"
      ]
     },
     "execution_count": 32,
     "metadata": {},
     "output_type": "execute_result"
    }
   ],
   "source": [
    "from sklearn.ensemble import RandomForestClassifier\n",
    "\n",
    "# Initialise the model\n",
    "model = RandomForestClassifier(n_estimators=100, min_samples_split=100, random_state=1)\n",
    "\n",
    "# Split data into training and testing sets\n",
    "train = sp500.iloc[:-100]\n",
    "test = sp500.iloc[-100:]\n",
    "\n",
    "# Use as many columns as predictors as possible\n",
    "predictors = [\"Close\", \"Volume\", \"Open\", \"High\", \"Low\"]\n",
    "\n",
    "# Fit the model to our dataset\n",
    "model.fit(train[predictors], train[\"Target\"])"
   ]
  },
  {
   "cell_type": "code",
   "execution_count": 33,
   "id": "8767cb24-8dd3-4e1b-885f-99ba9fef21ea",
   "metadata": {
    "tags": []
   },
   "outputs": [
    {
     "data": {
      "text/plain": [
       "Date\n",
       "2023-11-30 00:00:00-05:00    0\n",
       "2023-12-01 00:00:00-05:00    0\n",
       "2023-12-04 00:00:00-05:00    1\n",
       "2023-12-05 00:00:00-05:00    0\n",
       "2023-12-06 00:00:00-05:00    1\n",
       "                            ..\n",
       "2024-04-18 00:00:00-04:00    0\n",
       "2024-04-19 00:00:00-04:00    0\n",
       "2024-04-22 00:00:00-04:00    0\n",
       "2024-04-23 00:00:00-04:00    0\n",
       "2024-04-24 00:00:00-04:00    0\n",
       "Length: 100, dtype: int32"
      ]
     },
     "execution_count": 33,
     "metadata": {},
     "output_type": "execute_result"
    }
   ],
   "source": [
    "from sklearn.metrics import precision_score\n",
    "import pandas as pd\n",
    "\n",
    "preds = model.predict(test[predictors])\n",
    "\n",
    "preds = pd.Series(preds, index=test.index)\n",
    "\n",
    "# Here are our predictions for whether or not the prce will go up for the following days...\n",
    "preds"
   ]
  },
  {
   "cell_type": "code",
   "execution_count": 54,
   "id": "1da99478-b16d-46f0-83c0-c2432db72679",
   "metadata": {
    "tags": []
   },
   "outputs": [
    {
     "data": {
      "text/plain": [
       "0.8"
      ]
     },
     "execution_count": 54,
     "metadata": {},
     "output_type": "execute_result"
    }
   ],
   "source": [
    "# Let's check the precision of these predictions\n",
    "precision_score(test[\"Target\"], preds)"
   ]
  },
  {
   "cell_type": "markdown",
   "id": "e20acc11-564a-46aa-84fc-f32f5754fb93",
   "metadata": {
    "tags": []
   },
   "source": [
    "## Backtesting - a most robust way to test our model\n",
    "So far we have checked how our model did for one trainging set and one testing set. This is not as many tests as we would like. We are going to use a process known as backtesting in order to be more sure of the performance of our model.\n",
    "\n",
    "This consists of dividing the data into chunks, for example in our case we could use years. We would then use the first 10 years as the training set and the 11th year as the test. Then use the first 11 years as the training set and the 12th year as the test. And so on and so forth. This means we would end up with roughly 20 tests of the precision of our model, which is a bit more robust. "
   ]
  },
  {
   "cell_type": "code",
   "execution_count": 35,
   "id": "ffd49e29-177f-43cc-ab06-c1e421d72396",
   "metadata": {
    "tags": []
   },
   "outputs": [],
   "source": [
    "# First wrap everything we've done so far into a predict function\n",
    "def predict(train, test, predictors, model):\n",
    "    \n",
    "    model.fit(train[predictors], train[\"Target\"])\n",
    "    preds = model.predict(test[predictors])\n",
    "    preds = pd.Series(preds, index=test.index, name=\"Predictions\")\n",
    "    combined = pd.concat([test[\"Target\"], preds], axis=1)\n",
    "    \n",
    "    return combined"
   ]
  },
  {
   "cell_type": "code",
   "execution_count": 36,
   "id": "f0c1081f-9f5f-4fef-9a50-e9e258d91f93",
   "metadata": {
    "tags": []
   },
   "outputs": [],
   "source": [
    "# Now define a backtesting function which using an initial chunk of 2500 rows (~10 years) and chunks of size 250 after that (~ 1 trading year)\n",
    "def backtest(data, model, predictors, start=2500, step=250):\n",
    "    \n",
    "    all_predictions = []\n",
    "    \n",
    "    for i in range(start, data.shape[0], step):\n",
    "        \n",
    "        train = data.iloc[0:i].copy()\n",
    "        test = data.iloc[i:(i+step)].copy()\n",
    "        predictions = predict(train, test, predictors, model)\n",
    "        all_predictions.append(predictions)\n",
    "    \n",
    "    return pd.concat(all_predictions)"
   ]
  },
  {
   "cell_type": "code",
   "execution_count": 55,
   "id": "d78ab7db-b4cf-4dc8-b646-9081a8145c42",
   "metadata": {
    "tags": []
   },
   "outputs": [
    {
     "data": {
      "text/plain": [
       "Target\n",
       "1    0.543846\n",
       "0    0.456154\n",
       "Name: count, dtype: float64"
      ]
     },
     "execution_count": 55,
     "metadata": {},
     "output_type": "execute_result"
    }
   ],
   "source": [
    "# Run the backtest function \n",
    "predictions = backtest(sp500, model, predictors)\n",
    "\n",
    "# Quick sanity check to make sure we are predicting a roughly equal amount of yes's and no's to the quesiton of whether or not the price will go up on a given day. If not something would be wrong\n",
    "predictions[\"Predictions\"].value_counts()\n",
    "\n",
    "predictions[\"Target\"].value_counts() / predictions.shape[0]\n"
   ]
  },
  {
   "cell_type": "code",
   "execution_count": 38,
   "id": "cbc1772a-c52d-48a6-9ca9-eac9f23b7028",
   "metadata": {
    "tags": []
   },
   "outputs": [
    {
     "data": {
      "text/plain": [
       "0.5288906009244992"
      ]
     },
     "execution_count": 38,
     "metadata": {},
     "output_type": "execute_result"
    }
   ],
   "source": [
    "precision_score(predictions[\"Target\"], predictions[\"Predictions\"])"
   ]
  },
  {
   "cell_type": "markdown",
   "id": "79d9c4d8-c7bd-4ce6-abae-9ed828458ec3",
   "metadata": {
    "tags": []
   },
   "source": [
    "## Additional Predictors\n",
    "\n",
    "One way we can improve the precision of our model is to give it more columns to use a predictors of the target. \n",
    "\n",
    "We can calculate a few of these and supply them to the model. Intuitively some things which may be helpful for prediction are the ratios of the close price to a rolling average over some time period, and the trends. We can calculate these as seen below."
   ]
  },
  {
   "cell_type": "code",
   "execution_count": 42,
   "id": "12e786ba-d4cd-4e54-a898-192a35fdd0e0",
   "metadata": {
    "tags": []
   },
   "outputs": [],
   "source": [
    "# Add additional predictors to try and improve accuracy\n",
    "\n",
    "# Use a variety of time horizons/periods\n",
    "horizons = [2, 5, 60, 250, 1000]\n",
    "\n",
    "new_predictors = []\n",
    "\n",
    "for horizon in horizons:\n",
    "    rolling_average = sp500.rolling(horizon).mean()\n",
    "    \n",
    "    ratio_column = f\"Close_Ratio_{horizon}\"\n",
    "    sp500[ratio_column] = sp500[\"Close\"] / rolling_average[\"Close\"]\n",
    "    \n",
    "    trend_column = f\"Trend_{horizon}\"\n",
    "    sp500[trend_column] = sp500.shift(1).rolling(horizon).sum()[\"Target\"]\n",
    "    \n",
    "    new_predictors += [ratio_column, trend_column]\n",
    "    \n",
    "    "
   ]
  },
  {
   "cell_type": "code",
   "execution_count": 43,
   "id": "b2d7936f-b5e3-4b97-b1b3-60886a64334d",
   "metadata": {
    "tags": []
   },
   "outputs": [],
   "source": [
    "sp500 = sp500.dropna()"
   ]
  },
  {
   "cell_type": "code",
   "execution_count": 44,
   "id": "00950136-caaa-45b4-8de3-4d0b713893d0",
   "metadata": {
    "tags": []
   },
   "outputs": [],
   "source": [
    "#Change the model slightly\n",
    "\n",
    "model = RandomForestClassifier(n_estimators=100, min_samples_split=50, random_state=1)"
   ]
  },
  {
   "cell_type": "markdown",
   "id": "a5340607-c15a-40a8-80d6-ab6294c9bfa6",
   "metadata": {
    "tags": []
   },
   "source": [
    "## Making the model more picky\n",
    "\n",
    "Another way we can improve the predictive power of our model is by making it more picky.\n",
    "\n",
    "We can adjust the model to predict a probability for the price going up tomorrow, rather than rounding this to a boolean. We then manually round only probability values of greater than 60% to a 1. In this way we will be less likely to have false positives. \n",
    "\n",
    "This suits our use case well; when deciding whether or not to buy S&P500 on a given day, what is important to us is that the price will in fact go up when the model says so. Even if that means missing out on some days when the model was too conservative and gives a false negative. "
   ]
  },
  {
   "cell_type": "code",
   "execution_count": 46,
   "id": "d4b4958b-264a-4331-9c89-96317ed2845e",
   "metadata": {
    "tags": []
   },
   "outputs": [],
   "source": [
    "# Only produce a 1 when the model judges the probability to be >60%\n",
    "def predict(train, test, predictors, model):\n",
    "    \n",
    "    model.fit(train[predictors], train[\"Target\"])\n",
    "    preds = model.predict_proba(test[predictors])[:,1]\n",
    "    preds[preds >= 0.6] = 1\n",
    "    preds[preds < 0.6] = 0\n",
    "    preds = pd.Series(preds, index=test.index, name=\"Predictions\")\n",
    "    combined = pd.concat([test[\"Target\"], preds], axis=1)\n",
    "    \n",
    "    return combined"
   ]
  },
  {
   "cell_type": "code",
   "execution_count": 50,
   "id": "d7c383aa-8ead-49eb-b56f-8c5fbb7b5111",
   "metadata": {
    "tags": []
   },
   "outputs": [
    {
     "data": {
      "text/plain": [
       "Predictions\n",
       "0.0    4269\n",
       "1.0     874\n",
       "Name: count, dtype: int64"
      ]
     },
     "execution_count": 50,
     "metadata": {},
     "output_type": "execute_result"
    }
   ],
   "source": [
    "# Rerun the backtesting with the addition of these new predictors\n",
    "\n",
    "new_predictions = backtest(sp500, model, new_predictors)\n",
    "\n",
    "# Check how many days the model says the market will go up and how many it will go down on\n",
    "\n",
    "new_predictions[\"Predictions\"].value_counts()"
   ]
  },
  {
   "cell_type": "code",
   "execution_count": 51,
   "id": "9819367e-0edd-46c9-b5aa-fa8799aa99aa",
   "metadata": {
    "tags": []
   },
   "outputs": [
    {
     "data": {
      "text/plain": [
       "0.5743707093821511"
      ]
     },
     "execution_count": 51,
     "metadata": {},
     "output_type": "execute_result"
    }
   ],
   "source": [
    "precision_score(new_predictions[\"Target\"], new_predictions[\"Predictions\"])"
   ]
  },
  {
   "cell_type": "markdown",
   "id": "eac4cace-beeb-4b01-9be0-71243ee91728",
   "metadata": {
    "tags": []
   },
   "source": [
    "## Possible Extensions\n",
    "\n",
    " - Some markets trade overnight, and the data from these could be added to the model in order to improve prodiction.\n",
    " - Sentiment analysis could be carried out on text sources like news articles which mention the S&P500.\n",
    " - The resolution could be increased. This would involve looking at hour by hour or minute by minute data.\n",
    " - Tweaking the parameters of the models, such as n_estimators and min_samples_split, may change the quality of the results."
   ]
  },
  {
   "cell_type": "code",
   "execution_count": 80,
   "id": "5ea78e69-9919-4251-80ab-b33196c3e096",
   "metadata": {
    "tags": []
   },
   "outputs": [
    {
     "name": "stdout",
     "output_type": "stream",
     "text": [
      "[0.5758620689655173, 0.5719745222929936, 0.585499316005472, 0.5652173913043478, 0.5667244367417678, 0.5907473309608541, 0.5825049701789264]\n"
     ]
    },
    {
     "data": {
      "text/plain": [
       "Text(0, 0.5, 'Precision')"
      ]
     },
     "execution_count": 80,
     "metadata": {},
     "output_type": "execute_result"
    },
    {
     "data": {
      "image/png": "[encoded data removed]",
      "text/plain": [
       "<Figure size 640x480 with 1 Axes>"
      ]
     },
     "metadata": {},
     "output_type": "display_data"
    }
   ],
   "source": [
    "import matplotlib as plt\n",
    "\n",
    "# Examine how min_samples_split affects precision:\n",
    "splits = [50, 70, 90, 110, 130, 150, 170]\n",
    "\n",
    "result_precisions = []\n",
    "\n",
    "for split in splits:\n",
    "    \n",
    "    current_model = RandomForestClassifier(n_estimators=100, min_samples_split=split, random_state=1)\n",
    "    current_prediction_set = backtest(sp500, current_model, new_predictors)\n",
    "    current_precision = precision_score(current_prediction_set[\"Target\"], current_prediction_set[\"Predictions\"])\n",
    "    result_precisions.append(current_precision)\n",
    "    \n",
    "\n",
    "# Plot \n",
    "print(result_precisions)\n",
    "plt.pyplot.plot(splits, result_precisions)\n",
    "plt.pyplot.xlabel(\"min_samples_split\")\n",
    "plt.pyplot.ylabel(\"Precision\")\n"
   ]
  },
  {
   "cell_type": "code",
   "execution_count": 84,
   "id": "11693aea-4528-4832-b286-a805e39c76e4",
   "metadata": {
    "tags": []
   },
   "outputs": [
    {
     "name": "stdout",
     "output_type": "stream",
     "text": [
      "[0.5829145728643216, 0.5876288659793815, 0.5862068965517241, 0.5875912408759124, 0.5875912408759124, 0.5674676524953789]\n"
     ]
    },
    {
     "data": {
      "text/plain": [
       "Text(0, 0.5, 'Precision')"
      ]
     },
     "execution_count": 84,
     "metadata": {},
     "output_type": "execute_result"
    },
    {
     "data": {
      "image/png": "[encoded data removed]",
      "text/plain": [
       "<Figure size 640x480 with 1 Axes>"
      ]
     },
     "metadata": {},
     "output_type": "display_data"
    }
   ],
   "source": [
    "# Examine how the number of estimators (trees in the forest) affects precision:\n",
    "\n",
    "no_trees = [70, 90, 110, 130, 150, 170]\n",
    "est_result_precisions = []\n",
    "\n",
    "for num in no_trees:\n",
    "    \n",
    "    current_model = RandomForestClassifier(n_estimators=num, min_samples_split=150, random_state=1)\n",
    "    current_prediction_set = backtest(sp500, current_model, new_predictors)\n",
    "    current_precision = precision_score(current_prediction_set[\"Target\"], current_prediction_set[\"Predictions\"])\n",
    "    est_result_precisions.append(current_precision)\n",
    "    \n",
    "\n",
    "# Plot\n",
    "print(est_result_precisions)\n",
    "plt.pyplot.plot(no_trees, est_result_precisions)\n",
    "plt.pyplot.xlabel(\"no_estimators\")\n",
    "plt.pyplot.ylabel(\"Precision\")\n",
    "\n"
   ]
  },
  {
   "cell_type": "markdown",
   "id": "d33f498b-3608-4d50-9592-55bc5319bac1",
   "metadata": {
    "tags": []
   },
   "source": [
    "We see here that we have peak precision at no_estimators=90 and min_samples_split=150"
   ]
  },
  {
   "cell_type": "code",
   "execution_count": 52,
   "id": "22f03be6-41fa-4bdb-868d-56e4286c9261",
   "metadata": {
    "tags": []
   },
   "outputs": [
    {
     "data": {
      "text/plain": [
       "0.5866209262435678"
      ]
     },
     "execution_count": 52,
     "metadata": {},
     "output_type": "execute_result"
    }
   ],
   "source": [
    "# Tune the model to these optimal hyperparameter values\n",
    "\n",
    "tuned_model = RandomForestClassifier(n_estimators=90, min_samples_split=150, random_state=1)\n",
    "\n",
    "tuned_predictions = backtest(sp500, tuned_model, new_predictors)\n",
    "\n",
    "precision_score(tuned_predictions[\"Target\"], tuned_predictions[\"Predictions\"])"
   ]
  },
  {
   "cell_type": "code",
   "execution_count": null,
   "id": "90c07241-77f2-45f4-8254-338c52d19c00",
   "metadata": {},
   "outputs": [],
   "source": []
  }
 ],
 "metadata": {
  "kernelspec": {
   "display_name": "Python 3 (ipykernel)",
   "language": "python",
   "name": "python3"
  },
  "language_info": {
   "codemirror_mode": {
    "name": "ipython",
    "version": 3
   },
   "file_extension": ".py",
   "mimetype": "text/x-python",
   "name": "python",
   "nbconvert_exporter": "python",
   "pygments_lexer": "ipython3",
   "version": "3.11.5"
  }
 },
 "nbformat": 4,
 "nbformat_minor": 5
}
